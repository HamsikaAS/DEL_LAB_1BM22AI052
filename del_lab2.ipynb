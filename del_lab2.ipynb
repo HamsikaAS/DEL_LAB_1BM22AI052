{
 "cells": [
  {
   "cell_type": "markdown",
   "id": "184d3933",
   "metadata": {},
   "source": [
    "Create and implement a basic nueron model with a computaional framework. Integrate essential elements like input nodes, weight parameters , bias and activation function(included but not limited to sigmoid ,hyperbolic ,tangent and rectified linear unit). To construct a comprehensive representation of a nueron. Evaluate and observe how each activation influences the networks behavoiur and effectiveness in handling different types of data."
   ]
  },
  {
   "cell_type": "code",
   "execution_count": 1,
   "id": "0746c5f8",
   "metadata": {},
   "outputs": [],
   "source": [
    "import numpy as np\n",
    "import matplotlib.pyplot as plt\n"
   ]
  },
  {
   "cell_type": "code",
   "execution_count": 2,
   "id": "65ac8661",
   "metadata": {},
   "outputs": [],
   "source": [
    "def threshold(x):\n",
    "    if x>=0:\n",
    "        return 1\n",
    "    else:\n",
    "        return 0\n",
    "\n",
    "def sigmoid(x) :\n",
    "    return 1/(1 + np.exp(-x))\n",
    "\n",
    "def tanh(x):\n",
    "    return (np.exp(x) - np.exp(-x))/(np.exp(x) + np.exp(x))\n",
    "\n",
    "def ReLu(x):\n",
    "    if x>=0:\n",
    "        return x\n",
    "    else:\n",
    "        return 0\n",
    "\n",
    "def leaky_ReLu(x):\n",
    "    if x>=0:\n",
    "        return x\n",
    "    else:\n",
    "        return 0.001*x"
   ]
  },
  {
   "cell_type": "code",
   "execution_count": 5,
   "id": "4a0ffcbe",
   "metadata": {},
   "outputs": [
    {
     "name": "stdout",
     "output_type": "stream",
     "text": [
      "enter the 1st element1\n",
      "enter the 2nd element1\n"
     ]
    }
   ],
   "source": [
    "x1 = int(input('enter the 1st element'))\n",
    "x2 = int(input('enter the 2nd element'))"
   ]
  },
  {
   "cell_type": "code",
   "execution_count": 7,
   "id": "adb9b752",
   "metadata": {},
   "outputs": [
    {
     "name": "stdout",
     "output_type": "stream",
     "text": [
      "0\n"
     ]
    }
   ],
   "source": [
    "I = np.matrix([[x1,x2]])\n",
    "W = np.matrix([[0.5,-0.5]])\n",
    "\n",
    "H = I*W.T\n",
    "\n",
    "print(int(tanh(H[0,0])))"
   ]
  },
  {
   "cell_type": "code",
   "execution_count": 8,
   "id": "dae5f8a3",
   "metadata": {},
   "outputs": [
    {
     "name": "stdout",
     "output_type": "stream",
     "text": [
      "1\n"
     ]
    }
   ],
   "source": [
    "I = np.matrix([[x1,x2]])\n",
    "W = np.matrix([[0.5,-0.5]])\n",
    "\n",
    "H = I*W.T\n",
    "\n",
    "print(int(bool(sigmoid(H[0,0]))))"
   ]
  },
  {
   "cell_type": "code",
   "execution_count": 9,
   "id": "3a849439",
   "metadata": {},
   "outputs": [
    {
     "name": "stdout",
     "output_type": "stream",
     "text": [
      "1\n"
     ]
    }
   ],
   "source": [
    "I = np.matrix([[x1,x2]])\n",
    "W = np.matrix([[0.5,-0.5]])\n",
    "\n",
    "H = I*W.T\n",
    "\n",
    "print(int(bool(threshold(H[0,0]))))"
   ]
  },
  {
   "cell_type": "code",
   "execution_count": 10,
   "id": "5f4b7e2e",
   "metadata": {},
   "outputs": [
    {
     "name": "stdout",
     "output_type": "stream",
     "text": [
      "0\n"
     ]
    }
   ],
   "source": [
    "I = np.matrix([[x1,x2]])\n",
    "W = np.matrix([[0.5,-0.5]])\n",
    "\n",
    "H = I*W.T\n",
    "\n",
    "print(int(bool(ReLu(H[0,0]))))"
   ]
  },
  {
   "cell_type": "code",
   "execution_count": 11,
   "id": "6a336cbd",
   "metadata": {},
   "outputs": [
    {
     "name": "stdout",
     "output_type": "stream",
     "text": [
      "0\n"
     ]
    }
   ],
   "source": [
    "I = np.matrix([[x1,x2]])\n",
    "W = np.matrix([[0.5,-0.5]])\n",
    "\n",
    "H = I*W.T\n",
    "\n",
    "print(int(bool(leaky_ReLu(H[0,0]))))"
   ]
  },
  {
   "cell_type": "code",
   "execution_count": null,
   "id": "709e844b",
   "metadata": {},
   "outputs": [],
   "source": []
  }
 ],
 "metadata": {
  "kernelspec": {
   "display_name": "Python 3 (ipykernel)",
   "language": "python",
   "name": "python3"
  },
  "language_info": {
   "codemirror_mode": {
    "name": "ipython",
    "version": 3
   },
   "file_extension": ".py",
   "mimetype": "text/x-python",
   "name": "python",
   "nbconvert_exporter": "python",
   "pygments_lexer": "ipython3",
   "version": "3.9.12"
  }
 },
 "nbformat": 4,
 "nbformat_minor": 5
}
